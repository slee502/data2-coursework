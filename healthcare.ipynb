{
  "nbformat": 4,
  "nbformat_minor": 0,
  "metadata": {
    "colab": {
      "provenance": [],
      "include_colab_link": true
    },
    "kernelspec": {
      "name": "python3",
      "display_name": "Python 3"
    },
    "language_info": {
      "name": "python"
    }
  },
  "cells": [
    {
      "cell_type": "markdown",
      "metadata": {
        "id": "view-in-github",
        "colab_type": "text"
      },
      "source": [
        "<a href=\"https://colab.research.google.com/github/slee502/data2-coursework/blob/main/healthcare.ipynb\" target=\"_parent\"><img src=\"https://colab.research.google.com/assets/colab-badge.svg\" alt=\"Open In Colab\"/></a>"
      ]
    },
    {
      "cell_type": "code",
      "execution_count": null,
      "metadata": {
        "id": "c4Zfqtrf60Vu"
      },
      "outputs": [],
      "source": [
        "import pandas as pd\n",
        "import requests\n",
        "import json\n",
        "import urllib3\n",
        "from pandas import json_normalize\n"
      ]
    },
    {
      "cell_type": "markdown",
      "source": [
        "Link to the first set of data (this is a JSON file):  https://www.healthit.gov/data/open-api?source=Surescripts_County_04-2014.csv\n",
        "<br>\n",
        "Use pandas to read this into a dataframe.\n",
        "<br>\n",
        "Helpful link: https://pandas.pydata.org/docs/reference/api/pandas.read_json.html\n",
        " <br>\n",
        " <br>\n",
        " <br>\n",
        "Helpful links(for more complicated APIs):\n",
        "\n",
        "https://realpython.com/api-integration-in-python/\n",
        "<br>\n",
        "https://www.dataquest.io/blog/python-api-tutorial/\n",
        "<br>\n",
        "https://pandas.pydata.org/docs/reference/api/pandas.json_normalize.html"
      ],
      "metadata": {
        "id": "CRCETJCnWJap"
      }
    },
    {
      "cell_type": "code",
      "source": [
        "# your code here"
      ],
      "metadata": {
        "id": "9-BWfuaR6_qa"
      },
      "execution_count": null,
      "outputs": []
    },
    {
      "cell_type": "markdown",
      "source": [
        "Now import the data from the following URL: https://raw.githubusercontent.com/dmorton714/data-2-demo/main/states.csv\n",
        "<br>\n",
        "kaggle link to the data: https://www.kaggle.com/datasets/hhs/health-insurance\n",
        "<br>\n",
        "Helpful links: \n",
        "<br>\n",
        "https://codeigo.com/python/read-a-csv-file-from-a-url\n",
        "<br>\n"
      ],
      "metadata": {
        "id": "qN5yGJJvbUKd"
      }
    },
    {
      "cell_type": "code",
      "source": [
        "# your code here"
      ],
      "metadata": {
        "id": "p9cvH1r170ql"
      },
      "execution_count": null,
      "outputs": []
    },
    {
      "cell_type": "markdown",
      "source": [
        "Inspect the data in the dataframes\n",
        "\n",
        "1.   Verify rows of data in the dataframes. \n",
        "2.   List the columns. \n",
        "3.   Find the types in the dataframes.\n",
        "4.   Visualize the first 10 rows. \n",
        "5.   Find the data types. \n",
        "\n",
        "\n",
        "\n",
        "\n",
        "\n",
        "\n",
        "\n",
        "\n",
        "\n",
        "\n",
        "\n",
        "\n",
        "\n",
        "\n",
        "\n"
      ],
      "metadata": {
        "id": "In2BLek4LmCA"
      }
    },
    {
      "cell_type": "code",
      "source": [
        "# your code here"
      ],
      "metadata": {
        "id": "angK1CYNTybe"
      },
      "execution_count": null,
      "outputs": []
    },
    {
      "cell_type": "markdown",
      "source": [
        "Convert column types to meaningful types \n",
        "\n",
        "\n",
        "1.   Convert one column to string\n",
        "2.   Convert one column to float \n",
        "3.   Convert one column to bool \n",
        "4.   Convert one column to int\n",
        "5.   Convert one column to datetime\n",
        "\n",
        "\n"
      ],
      "metadata": {
        "id": "PG_No2TbTzdU"
      }
    },
    {
      "cell_type": "code",
      "source": [
        "# your code here"
      ],
      "metadata": {
        "id": "5v6KBKsYT4-8"
      },
      "execution_count": null,
      "outputs": []
    },
    {
      "cell_type": "markdown",
      "source": [
        "Get some stats from the dataframe\n",
        "\n",
        "\n",
        "\n",
        "1.   Find the min, max, and mean for the columns you converted to float, int, and date time. \n",
        "2.   Find the distinct values for the sting column. \n",
        "3.   Find the true ratio in the bool column. "
      ],
      "metadata": {
        "id": "f4fH8C8DT5L_"
      }
    },
    {
      "cell_type": "code",
      "source": [
        "# your code here"
      ],
      "metadata": {
        "id": "WaZA_bWyT71A"
      },
      "execution_count": null,
      "outputs": []
    }
  ]
}